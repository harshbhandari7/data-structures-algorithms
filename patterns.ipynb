{
 "cells": [
  {
   "cell_type": "code",
   "execution_count": 37,
   "id": "d29eda39-3f77-41d2-abab-1dad3df3bcc5",
   "metadata": {},
   "outputs": [
    {
     "name": "stdin",
     "output_type": "stream",
     "text": [
      " 5\n"
     ]
    }
   ],
   "source": [
    "leng = int(input())"
   ]
  },
  {
   "cell_type": "markdown",
   "id": "38fb7473-ac57-4482-a740-2a949aa4c176",
   "metadata": {},
   "source": [
    "Pattern 1"
   ]
  },
  {
   "cell_type": "code",
   "execution_count": 16,
   "id": "5609c6b7-77bd-4968-bb33-94a88c5f3a9c",
   "metadata": {
    "tags": []
   },
   "outputs": [
    {
     "name": "stdout",
     "output_type": "stream",
     "text": [
      "*\n",
      "**\n",
      "***\n",
      "****\n",
      "*****\n"
     ]
    }
   ],
   "source": [
    "for i in range(leng):\n",
    "    for j in range(i+1):\n",
    "        print('*', end=\"\")\n",
    "    print()"
   ]
  },
  {
   "cell_type": "markdown",
   "id": "93866680-9848-48d3-bb45-c0b6b91f8d03",
   "metadata": {},
   "source": [
    "Pattern 2"
   ]
  },
  {
   "cell_type": "code",
   "execution_count": 10,
   "id": "5f6f3408-226f-4538-a27d-b8265e90f9bb",
   "metadata": {
    "collapsed": true,
    "jupyter": {
     "outputs_hidden": true
    },
    "tags": []
   },
   "outputs": [
    {
     "name": "stdout",
     "output_type": "stream",
     "text": [
      "    *\n",
      "   **\n",
      "  ***\n",
      " ****\n",
      "*****\n"
     ]
    }
   ],
   "source": [
    "for i in range(leng-1, -1, -1):\n",
    "    for j in range(leng):\n",
    "        if (j >= i ):\n",
    "            print('*', end='')\n",
    "        else:\n",
    "            print(' ', end='')\n",
    "    print()"
   ]
  },
  {
   "cell_type": "markdown",
   "id": "7c747b4e-175c-41c2-b270-3fb2333cd74b",
   "metadata": {},
   "source": [
    "Pattern 3"
   ]
  },
  {
   "cell_type": "code",
   "execution_count": 9,
   "id": "fe8ffb7c-9ae5-49b1-a3a3-d1c074f29055",
   "metadata": {
    "collapsed": true,
    "jupyter": {
     "outputs_hidden": true
    },
    "tags": []
   },
   "outputs": [
    {
     "name": "stdout",
     "output_type": "stream",
     "text": [
      "*****\n",
      "****\n",
      "***\n",
      "**\n",
      "*\n"
     ]
    }
   ],
   "source": [
    "for i in range(leng-1, -1, -1):\n",
    "    for j in range(i+1):\n",
    "        print('*', end='')\n",
    "    print()"
   ]
  },
  {
   "cell_type": "markdown",
   "id": "ab5546a0-601d-4064-915e-97e310ac98aa",
   "metadata": {},
   "source": [
    "Pattern 4"
   ]
  },
  {
   "cell_type": "code",
   "execution_count": 14,
   "id": "e2630b15-f660-477e-8409-bc51c2d8e991",
   "metadata": {
    "tags": []
   },
   "outputs": [
    {
     "name": "stdout",
     "output_type": "stream",
     "text": [
      "*****\n",
      " ****\n",
      "  ***\n",
      "   **\n",
      "    *\n"
     ]
    }
   ],
   "source": [
    "for i in range(leng):\n",
    "    for j in range(leng):\n",
    "        if (j >= i):\n",
    "            print('*', end='')\n",
    "        else:\n",
    "            print(' ', end='')\n",
    "    print()"
   ]
  },
  {
   "cell_type": "markdown",
   "id": "090dfe31-75cd-4341-be7c-d9c879f771cf",
   "metadata": {},
   "source": [
    "Pattern 5"
   ]
  },
  {
   "cell_type": "code",
   "execution_count": 25,
   "id": "6685b52e-6338-40f6-be05-baff12fb7b81",
   "metadata": {},
   "outputs": [
    {
     "name": "stdout",
     "output_type": "stream",
     "text": [
      "    *\n",
      "   ***\n",
      "  *****\n",
      " *******\n",
      "*********\n"
     ]
    }
   ],
   "source": [
    "for i in range(leng):\n",
    "    for j in range(leng-1, -1, -1):\n",
    "        if (j <= i):\n",
    "            print('*', end='')\n",
    "        else:\n",
    "            print(' ', end='')\n",
    "    for k in range(i):\n",
    "        print('*', end='')\n",
    "        \n",
    "    print()"
   ]
  },
  {
   "cell_type": "code",
   "execution_count": 38,
   "id": "afd036a3-dbd7-472d-8a47-5c2c1c25b7ca",
   "metadata": {},
   "outputs": [
    {
     "name": "stdout",
     "output_type": "stream",
     "text": [
      "*********\n",
      " *******\n",
      "  *****\n",
      "   ***\n",
      "    *\n"
     ]
    }
   ],
   "source": [
    "for i in range(leng-1, -1, -1):\n",
    "    for j in range(leng-1, -1, -1):\n",
    "        if (j <= i):\n",
    "            print('*', end='')\n",
    "        else:\n",
    "            print(' ', end='')\n",
    "    for k in range(i):\n",
    "        print('*', end='')\n",
    "    print()"
   ]
  },
  {
   "cell_type": "code",
   "execution_count": null,
   "id": "227c6c68-7984-4c68-8ad5-27f2143fdd81",
   "metadata": {},
   "outputs": [],
   "source": []
  }
 ],
 "metadata": {
  "kernelspec": {
   "display_name": "Python 3",
   "language": "python",
   "name": "python3"
  },
  "language_info": {
   "codemirror_mode": {
    "name": "ipython",
    "version": 3
   },
   "file_extension": ".py",
   "mimetype": "text/x-python",
   "name": "python",
   "nbconvert_exporter": "python",
   "pygments_lexer": "ipython3",
   "version": "3.8.10"
  }
 },
 "nbformat": 4,
 "nbformat_minor": 5
}
